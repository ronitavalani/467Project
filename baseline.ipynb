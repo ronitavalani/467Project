{
  "nbformat": 4,
  "nbformat_minor": 0,
  "metadata": {
    "colab": {
      "provenance": [],
      "authorship_tag": "ABX9TyOj1UPiusorBn/hltozqygo",
      "include_colab_link": true
    },
    "kernelspec": {
      "name": "python3",
      "display_name": "Python 3"
    },
    "language_info": {
      "name": "python"
    }
  },
  "cells": [
    {
      "cell_type": "markdown",
      "metadata": {
        "id": "view-in-github",
        "colab_type": "text"
      },
      "source": [
        "<a href=\"https://colab.research.google.com/github/ronitavalani/467Project/blob/main/baseline.ipynb\" target=\"_parent\"><img src=\"https://colab.research.google.com/assets/colab-badge.svg\" alt=\"Open In Colab\"/></a>"
      ]
    },
    {
      "cell_type": "code",
      "execution_count": 1,
      "metadata": {
        "id": "Fgs12ctDGJVE"
      },
      "outputs": [],
      "source": [
        "# Import libraries\n",
        "import pandas as pd\n",
        "from sklearn.model_selection import train_test_split, cross_val_score\n",
        "from sklearn.preprocessing import StandardScaler\n",
        "from sklearn.neighbors import KNeighborsClassifier\n",
        "import numpy as np"
      ]
    },
    {
      "cell_type": "code",
      "source": [
        "# Load in data\n",
        "df = pd.read_csv(\"songs_normalize.csv\")\n",
        "\n",
        "df[\"genre\"] = df[\"genre\"].apply(lambda x: x.split(\",\")[0].strip().lower())\n",
        "\n",
        "genre_counts = df[\"genre\"].value_counts()\n",
        "valid_genres = genre_counts[genre_counts > 1].index\n",
        "df = df[df[\"genre\"].isin(valid_genres)]\n",
        "df.head()"
      ],
      "metadata": {
        "id": "s_WwbZPkG7b8"
      },
      "execution_count": null,
      "outputs": []
    }
  ]
}