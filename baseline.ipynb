{
  "cells": [
    {
      "cell_type": "markdown",
      "metadata": {
        "colab_type": "text",
        "id": "view-in-github"
      },
      "source": [
        "<a href=\"https://colab.research.google.com/github/ronitavalani/467Project/blob/main/baseline.ipynb\" target=\"_parent\"><img src=\"https://colab.research.google.com/assets/colab-badge.svg\" alt=\"Open In Colab\"/></a>"
      ]
    },
    {
      "cell_type": "code",
      "execution_count": 1,
      "metadata": {
        "id": "Fgs12ctDGJVE"
      },
      "outputs": [],
      "source": [
        "#imports\n",
        "import pandas as pd\n",
        "from sklearn.model_selection import train_test_split, cross_val_score\n",
        "from sklearn.preprocessing import StandardScaler\n",
        "from sklearn.neighbors import KNeighborsClassifier\n",
        "import numpy as np"
      ]
    },
    {
      "cell_type": "code",
      "execution_count": 2,
      "metadata": {
        "id": "N3iLeoc4IYIU"
      },
      "outputs": [],
      "source": [
        "#load dataset\n",
        "df = pd.read_csv(\"spotify_songs.csv\")\n",
        "\n",
        "df['playlist_genre'] = df['playlist_genre'].astype(str).apply(lambda x: x.split(',')[0].strip())"
      ]
    },
    {
      "cell_type": "code",
      "execution_count": 3,
      "metadata": {
        "id": "7TIZCQkHIzMJ"
      },
      "outputs": [],
      "source": [
        "non_numeric_cols = df.select_dtypes(include=['object']).columns.tolist()\n",
        "non_numeric_cols.remove('playlist_genre')\n",
        "df = df.drop(columns=non_numeric_cols)\n",
        "\n",
        "# Drop empty values\n",
        "df = df.dropna()\n",
        "\n",
        "# Create input and output\n",
        "X = df.drop(columns=['playlist_genre'])\n",
        "y = df['playlist_genre']\n",
        "\n",
        "X_train, X_test, y_train, y_test = train_test_split(\n",
        "    X, y, test_size=0.2, stratify=y, random_state=42\n",
        ")"
      ]
    },
    {
      "cell_type": "code",
      "execution_count": 4,
      "metadata": {
        "id": "98yVzsCuLcPG"
      },
      "outputs": [],
      "source": [
        "scaler = StandardScaler()\n",
        "X_train_scaled = scaler.fit_transform(X_train)\n",
        "X_test_scaled = scaler.transform(X_test)\n"
      ]
    },
    {
      "cell_type": "code",
      "execution_count": 5,
      "metadata": {
        "id": "1A--HMkkLglw"
      },
      "outputs": [
        {
          "name": "stdout",
          "output_type": "stream",
          "text": [
            "Best k = 10, CV accuracy = 0.4775\n"
          ]
        }
      ],
      "source": [
        "k_values = range(1, 11)\n",
        "cv_scores = []\n",
        "\n",
        "for k in k_values:\n",
        "    knn = KNeighborsClassifier(n_neighbors=k)\n",
        "    scores = cross_val_score(knn, X_train_scaled, y_train, cv=5, scoring=\"accuracy\")\n",
        "    cv_scores.append(scores.mean())\n",
        "\n",
        "best_k = k_values[np.argmax(cv_scores)]\n",
        "print(f\"Best k = {best_k}, CV accuracy = {cv_scores[best_k - 1]:.4f}\")\n"
      ]
    },
    {
      "cell_type": "code",
      "execution_count": null,
      "metadata": {
        "id": "P3c7XJHCLjHS"
      },
      "outputs": [
        {
          "name": "stdout",
          "output_type": "stream",
          "text": [
            "Test Accuracy (k=10): 0.4652\n"
          ]
        }
      ],
      "source": [
        "final_knn = KNeighborsClassifier(n_neighbors=best_k)\n",
        "final_knn.fit(X_train_scaled, y_train)\n",
        "test_accuracy = final_knn.score(X_test_scaled, y_test)\n",
        "print(f\"Test Accuracy (k={best_k}): {test_accuracy:.4f}\")"
      ]
    }
  ],
  "metadata": {
    "colab": {
      "include_colab_link": true,
      "provenance": []
    },
    "kernelspec": {
      "display_name": "base",
      "language": "python",
      "name": "python3"
    },
    "language_info": {
      "codemirror_mode": {
        "name": "ipython",
        "version": 3
      },
      "file_extension": ".py",
      "mimetype": "text/x-python",
      "name": "python",
      "nbconvert_exporter": "python",
      "pygments_lexer": "ipython3",
      "version": "3.11.8"
    }
  },
  "nbformat": 4,
  "nbformat_minor": 0
}
