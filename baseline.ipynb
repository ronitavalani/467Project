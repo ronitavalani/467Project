{
  "nbformat": 4,
  "nbformat_minor": 0,
  "metadata": {
    "colab": {
      "provenance": [],
      "include_colab_link": true
    },
    "kernelspec": {
      "name": "python3",
      "display_name": "Python 3"
    },
    "language_info": {
      "name": "python"
    }
  },
  "cells": [
    {
      "cell_type": "markdown",
      "metadata": {
        "id": "view-in-github",
        "colab_type": "text"
      },
      "source": [
        "<a href=\"https://colab.research.google.com/github/ronitavalani/467Project/blob/main/baseline.ipynb\" target=\"_parent\"><img src=\"https://colab.research.google.com/assets/colab-badge.svg\" alt=\"Open In Colab\"/></a>"
      ]
    },
    {
      "cell_type": "code",
      "execution_count": 1,
      "metadata": {
        "id": "Fgs12ctDGJVE"
      },
      "outputs": [],
      "source": [
        "#imports\n",
        "import pandas as pd\n",
        "from sklearn.model_selection import train_test_split, cross_val_score\n",
        "from sklearn.preprocessing import StandardScaler\n",
        "from sklearn.neighbors import KNeighborsClassifier\n",
        "import numpy as np"
      ]
    },
    {
      "cell_type": "code",
      "source": [
        "#load dataset\n",
        "df = pd.read_csv(\"songs_normalize.csv\")\n",
        "\n",
        "df[\"genre\"] = df[\"genre\"].apply(lambda x: x.split(\",\")[0].strip().lower())"
      ],
      "metadata": {
        "id": "N3iLeoc4IYIU"
      },
      "execution_count": null,
      "outputs": []
    },
    {
      "cell_type": "code",
      "source": [
        "#remove rare genres\n",
        "genre_counts = df[\"genre\"].value_counts()\n",
        "valid_genres = genre_counts[genre_counts > 1].index\n",
        "df = df[df[\"genre\"].isin(valid_genres)]"
      ],
      "metadata": {
        "id": "fGBM-6wJIqzH"
      },
      "execution_count": null,
      "outputs": []
    },
    {
      "cell_type": "code",
      "source": [
        "X = df.drop(columns=[\"artist\", \"song\", \"genre\"])\n",
        "y = df[\"genre\"]\n",
        "\n",
        "X_train, X_test, y_train, y_test = train_test_split(\n",
        "    X, y, test_size=0.2, stratify=y, random_state=42\n",
        ")"
      ],
      "metadata": {
        "id": "7TIZCQkHIzMJ"
      },
      "execution_count": null,
      "outputs": []
    },
    {
      "cell_type": "code",
      "source": [
        "scaler = StandardScaler()\n",
        "X_train_scaled = scaler.fit_transform(X_train)\n",
        "X_test_scaled = scaler.transform(X_test)\n"
      ],
      "metadata": {
        "id": "98yVzsCuLcPG"
      },
      "execution_count": null,
      "outputs": []
    },
    {
      "cell_type": "code",
      "source": [
        "k_values = range(1, 11)\n",
        "cv_scores = []\n",
        "\n",
        "for k in k_values:\n",
        "    knn = KNeighborsClassifier(n_neighbors=k)\n",
        "    scores = cross_val_score(knn, X_train_scaled, y_train, cv=5, scoring=\"accuracy\")\n",
        "    cv_scores.append(scores.mean())\n",
        "\n",
        "best_k = k_values[np.argmax(cv_scores)]\n",
        "print(f\"Best k = {best_k}, CV accuracy = {cv_scores[best_k - 1]:.4f}\")\n"
      ],
      "metadata": {
        "id": "1A--HMkkLglw"
      },
      "execution_count": null,
      "outputs": []
    },
    {
      "cell_type": "code",
      "source": [
        "final_knn = KNeighborsClassifier(n_neighbors=best_k)\n",
        "final_knn.fit(X_train_scaled, y_train)\n",
        "test_accuracy = final_knn.score(X_test_scaled, y_test)\n",
        "print(f\"Test Accuracy (k={best_k}): {test_accuracy:.4f}\")\n"
      ],
      "metadata": {
        "id": "P3c7XJHCLjHS"
      },
      "execution_count": null,
      "outputs": []
    }
  ]
}